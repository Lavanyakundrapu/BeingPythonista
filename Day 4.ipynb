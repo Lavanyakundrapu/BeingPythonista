{
 "cells": [
  {
   "cell_type": "markdown",
   "id": "64bb9d95",
   "metadata": {},
   "source": [
    "# Conditionals\n",
    "* if statement\n",
    "* else statement\n",
    "* elif statement\n",
    "* Nested if \n",
    "\n",
    "#### if statement\n",
    "\n",
    "```python\n",
    "if <condition>:\n",
    "    statement(s)\n",
    "print(rest of the code)\n",
    "\n",
    " ```   \n",
    "#### else statement\n",
    "\n",
    "```python\n",
    "if <condition>:\n",
    "    statement(s)\n",
    "    \n",
    "else:\n",
    "    statement(s)\n",
    "print(rest of the code)\n",
    "\n",
    "```\n",
    "#### elif statement\n",
    "\n",
    "```python\n",
    "if <condition>:\n",
    "    statement(s)\n",
    "elif <condition>:\n",
    "    statement(s)\n",
    "else:\n",
    "    statement(s)\n",
    "print(rest of the code)\n",
    "```\n",
    "\n",
    "#### nested if:\n",
    "\n",
    "```python\n",
    "if <condition>:\n",
    "    statement(s)\n",
    "print(rest of the code)\n",
    "```"
   ]
  },
  {
   "cell_type": "markdown",
   "id": "174e1da5",
   "metadata": {},
   "source": [
    "# Exercise"
   ]
  },
  {
   "cell_type": "code",
   "execution_count": 9,
   "id": "30a29341",
   "metadata": {},
   "outputs": [
    {
     "name": "stdout",
     "output_type": "stream",
     "text": [
      "Twinkle, twinkle, little star\n",
      "\t How I wonder what you are!\n",
      "\t\t Up above the world so high,\n",
      "\t\t Like a diamond in the sky.\n",
      "Twinkle, twinkle, little star,\n",
      "\t How I wonder what you are\n"
     ]
    }
   ],
   "source": [
    "print('Twinkle, twinkle, little star\\n\\t How I wonder what you are!\\n\\t\\t Up above the world so high,\\n\\t\\t Like a diamond in the sky.\\nTwinkle, twinkle, little star,\\n\\t How I wonder what you are')"
   ]
  },
  {
   "cell_type": "code",
   "execution_count": 11,
   "id": "941841fa",
   "metadata": {},
   "outputs": [
    {
     "name": "stdout",
     "output_type": "stream",
     "text": [
      "3.9.12 (main, Apr  4 2022, 05:22:27) [MSC v.1916 64 bit (AMD64)]\n"
     ]
    }
   ],
   "source": [
    "import sys\n",
    "print(sys.version) #to know python version"
   ]
  },
  {
   "cell_type": "code",
   "execution_count": 12,
   "id": "c622015f",
   "metadata": {},
   "outputs": [
    {
     "name": "stdout",
     "output_type": "stream",
     "text": [
      "Current date and time : \n",
      "2022-07-26 23:04:51\n"
     ]
    }
   ],
   "source": [
    "import datetime\n",
    "now = datetime.datetime.now()\n",
    "print (\"Current date and time : \")\n",
    "print (now.strftime(\"%Y-%m-%d %H:%M:%S\")) #strftime()means string representation of date or time object"
   ]
  },
  {
   "cell_type": "code",
   "execution_count": 2,
   "id": "dbd22286",
   "metadata": {},
   "outputs": [
    {
     "name": "stdout",
     "output_type": "stream",
     "text": [
      "1.1\n",
      "area: 3.8028571428571434\n"
     ]
    }
   ],
   "source": [
    "r=float(input())\n",
    "print('area:',(22/7)*r**2)"
   ]
  },
  {
   "cell_type": "code",
   "execution_count": 3,
   "id": "94ca6466",
   "metadata": {},
   "outputs": [
    {
     "name": "stdout",
     "output_type": "stream",
     "text": [
      "Input the radius of the circle : 1.1\n",
      "The area of the circle with radius 1.1 is: 3.8013271108436504\n"
     ]
    }
   ],
   "source": [
    "from math import pi\n",
    "r = float(input (\"Input the radius of the circle : \"))\n",
    "print (\"The area of the circle with radius \" + str(r) + \" is: \" + str(pi * r**2))\n"
   ]
  },
  {
   "cell_type": "code",
   "execution_count": 7,
   "id": "30bf54d4",
   "metadata": {},
   "outputs": [
    {
     "name": "stdout",
     "output_type": "stream",
     "text": [
      "lavanya\n",
      "kundrapu\n",
      "kundrapu lavanya\n"
     ]
    }
   ],
   "source": [
    "a=input()\n",
    "b=input()\n",
    "print(b+' '+ a)"
   ]
  },
  {
   "cell_type": "code",
   "execution_count": 4,
   "id": "6a730abc",
   "metadata": {},
   "outputs": [
    {
     "name": "stdout",
     "output_type": "stream",
     "text": [
      "filename:lavanya.py\n",
      "py\n"
     ]
    }
   ],
   "source": [
    "a=input('filename:')\n",
    "b=a.split('.')\n",
    "print(b[-1])"
   ]
  },
  {
   "cell_type": "code",
   "execution_count": 1,
   "id": "51a3558e",
   "metadata": {},
   "outputs": [
    {
     "name": "stdout",
     "output_type": "stream",
     "text": [
      "Red Black\n"
     ]
    }
   ],
   "source": [
    "a= [\"Red\",\"Green\",\"White\" ,\"Black\"]\n",
    "print(a[0],a[-1])\n"
   ]
  },
  {
   "cell_type": "code",
   "execution_count": 2,
   "id": "ca7f37cb",
   "metadata": {},
   "outputs": [
    {
     "name": "stdout",
     "output_type": "stream",
     "text": [
      "11/12/2014\n"
     ]
    }
   ],
   "source": [
    "a=(11, 12, 2014)\n",
    "print('%i/%i/%i'%a)\n"
   ]
  },
  {
   "cell_type": "code",
   "execution_count": 17,
   "id": "c2900185",
   "metadata": {},
   "outputs": [
    {
     "name": "stdout",
     "output_type": "stream",
     "text": [
      "Input an integer : 5\n",
      "615\n"
     ]
    }
   ],
   "source": [
    "a = int(input(\"Input an integer : \"))\n",
    "n1 = int( \"%s\" % a )\n",
    "n2 = int( \"%s%s\" % (a,a) )\n",
    "n3 = int( \"%s%s%s\" % (a,a,a) )\n",
    "print (n1+n2+n3)\n"
   ]
  },
  {
   "cell_type": "code",
   "execution_count": 20,
   "id": "9670c3ea",
   "metadata": {},
   "outputs": [
    {
     "name": "stdout",
     "output_type": "stream",
     "text": [
      "year:2022\n",
      "month:7\n",
      "     July 2022\n",
      "Mo Tu We Th Fr Sa Su\n",
      "             1  2  3\n",
      " 4  5  6  7  8  9 10\n",
      "11 12 13 14 15 16 17\n",
      "18 19 20 21 22 23 24\n",
      "25 26 27 28 29 30 31\n",
      "\n"
     ]
    }
   ],
   "source": [
    "import calendar\n",
    "y=int(input('year:'))\n",
    "m=int(input('month:'))\n",
    "print(calendar.month(y,m))"
   ]
  },
  {
   "cell_type": "code",
   "execution_count": 22,
   "id": "97e538e6",
   "metadata": {},
   "outputs": [
    {
     "name": "stdout",
     "output_type": "stream",
     "text": [
      "a string that you \"don't\" have to escape\n",
      "This\n",
      "is a ....... multi-line\n",
      "heredoc string --------> example\n",
      "\n",
      "\n"
     ]
    }
   ],
   "source": [
    "print('''a string that you \"don't\" have to escape\n",
    "This\n",
    "is a ....... multi-line\n",
    "heredoc string --------> example\n",
    "\n",
    "''')\n"
   ]
  },
  {
   "cell_type": "code",
   "execution_count": 24,
   "id": "0566e9e2",
   "metadata": {},
   "outputs": [
    {
     "name": "stdout",
     "output_type": "stream",
     "text": [
      "2022\n",
      "07\n",
      "27\n",
      "2022\n",
      "07\n",
      "14\n",
      "-13\n"
     ]
    }
   ],
   "source": [
    "from datetime import date\n",
    "y1=int(input())\n",
    "m1=int(input())\n",
    "d1=int(input())\n",
    "y2=int(input())\n",
    "m2=int(input())\n",
    "d2=int(input())\n",
    "s=date(y1,m1,d1)\n",
    "e=date(y2,m2,d2)\n",
    "d=e-s\n",
    "print(d.days)"
   ]
  },
  {
   "cell_type": "code",
   "execution_count": 25,
   "id": "dfa351d9",
   "metadata": {},
   "outputs": [
    {
     "name": "stdout",
     "output_type": "stream",
     "text": [
      "6\n",
      "volume of the sphere: 905.142857142857\n"
     ]
    }
   ],
   "source": [
    "r=int(input())\n",
    "print('volume of the sphere:',(4/3)*(22/7)*r**3)"
   ]
  },
  {
   "cell_type": "code",
   "execution_count": 26,
   "id": "7a041be2",
   "metadata": {},
   "outputs": [
    {
     "name": "stdout",
     "output_type": "stream",
     "text": [
      "27\n",
      "20\n"
     ]
    }
   ],
   "source": [
    "a=int(input())\n",
    "if a>17:\n",
    "    print((a-17)*2)\n",
    "else:\n",
    "    print(17-a)\n"
   ]
  }
 ],
 "metadata": {
  "kernelspec": {
   "display_name": "Python 3 (ipykernel)",
   "language": "python",
   "name": "python3"
  },
  "language_info": {
   "codemirror_mode": {
    "name": "ipython",
    "version": 3
   },
   "file_extension": ".py",
   "mimetype": "text/x-python",
   "name": "python",
   "nbconvert_exporter": "python",
   "pygments_lexer": "ipython3",
   "version": "3.9.12"
  }
 },
 "nbformat": 4,
 "nbformat_minor": 5
}
