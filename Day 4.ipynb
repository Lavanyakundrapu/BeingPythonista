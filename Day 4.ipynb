{
 "cells": [
  {
   "cell_type": "markdown",
   "id": "64bb9d95",
   "metadata": {},
   "source": [
    "# Conditionals\n",
    "* if statement\n",
    "* else statement\n",
    "* elif statement\n",
    "* Nested if \n",
    "\n",
    "#### if statement\n",
    "\n",
    "```python\n",
    "if <condition>:\n",
    "    statement(s)\n",
    "print(rest of the code)\n",
    "\n",
    " ```   \n",
    "#### else statement\n",
    "\n",
    "```python\n",
    "if <condition>:\n",
    "    statement(s)\n",
    "    \n",
    "else:\n",
    "    statement(s)\n",
    "print(rest of the code)\n",
    "\n",
    "```\n",
    "#### elif statement\n",
    "\n",
    "```python\n",
    "if <condition>:\n",
    "    statement(s)\n",
    "elif <condition>:\n",
    "    statement(s)\n",
    "else:\n",
    "    statement(s)\n",
    "print(rest of the code)\n",
    "```\n",
    "\n",
    "#### nested if:\n",
    "\n",
    "```python\n",
    "if <condition>:\n",
    "    statement(s)\n",
    "print(rest of the code)\n",
    "```"
   ]
  },
  {
   "cell_type": "markdown",
   "id": "174e1da5",
   "metadata": {},
   "source": [
    "# Exercise"
   ]
  },
  {
   "cell_type": "markdown",
   "id": "a131c336",
   "metadata": {},
   "source": [
    "### Examples for usage of print, next line and tab[escape characters]"
   ]
  },
  {
   "cell_type": "code",
   "execution_count": 1,
   "id": "30a29341",
   "metadata": {
    "scrolled": true
   },
   "outputs": [
    {
     "name": "stdout",
     "output_type": "stream",
     "text": [
      "Twinkle, twinkle, little star\n",
      "\t How I wonder what you are!\n",
      "\t\t Up above the world so high,\n",
      "\t\t Like a diamond in the sky.\n",
      "Twinkle, twinkle, little star,\n",
      "\t How I wonder what you are\n"
     ]
    }
   ],
   "source": [
    "print('Twinkle, twinkle, little star\\n\\t How I wonder what you are!\\n\\t\\t Up above the world so high,\\n\\t\\t Like a diamond in the sky.\\nTwinkle, twinkle, little star,\\n\\t How I wonder what you are')"
   ]
  },
  {
   "cell_type": "markdown",
   "id": "b7424904",
   "metadata": {},
   "source": [
    "### Program to know Python version"
   ]
  },
  {
   "cell_type": "code",
   "execution_count": 2,
   "id": "941841fa",
   "metadata": {},
   "outputs": [
    {
     "name": "stdout",
     "output_type": "stream",
     "text": [
      "3.9.12 (main, Apr  4 2022, 05:22:27) [MSC v.1916 64 bit (AMD64)]\n"
     ]
    }
   ],
   "source": [
    "import sys\n",
    "print(sys.version) #to know python version"
   ]
  },
  {
   "cell_type": "markdown",
   "id": "a82a97bd",
   "metadata": {},
   "source": [
    "### Program to know date and time"
   ]
  },
  {
   "cell_type": "code",
   "execution_count": 3,
   "id": "c622015f",
   "metadata": {},
   "outputs": [
    {
     "name": "stdout",
     "output_type": "stream",
     "text": [
      "Current date and time : \n",
      "2022-08-27 23:01:46\n"
     ]
    }
   ],
   "source": [
    "import datetime\n",
    "now = datetime.datetime.now()\n",
    "print (\"Current date and time : \")\n",
    "print (now.strftime(\"%Y-%m-%d %H:%M:%S\")) #strftime()means string representation of date or time object"
   ]
  },
  {
   "cell_type": "markdown",
   "id": "4616bebb",
   "metadata": {},
   "source": [
    "### Program to know area of circle[method-1]"
   ]
  },
  {
   "cell_type": "code",
   "execution_count": 4,
   "id": "dbd22286",
   "metadata": {},
   "outputs": [
    {
     "name": "stdout",
     "output_type": "stream",
     "text": [
      "9.5\n",
      "area: 283.6428571428571\n"
     ]
    }
   ],
   "source": [
    "r=float(input())\n",
    "print('area:',(22/7)*r**2)"
   ]
  },
  {
   "cell_type": "markdown",
   "id": "46835b47",
   "metadata": {},
   "source": [
    "### Program to know area of circle[method-2 using math library]"
   ]
  },
  {
   "cell_type": "code",
   "execution_count": 5,
   "id": "94ca6466",
   "metadata": {},
   "outputs": [
    {
     "name": "stdout",
     "output_type": "stream",
     "text": [
      "Input the radius of the circle : 4.9\n",
      "The area of the circle with radius 4.9 is: 75.42963961269095\n"
     ]
    }
   ],
   "source": [
    "from math import pi\n",
    "r = float(input (\"Input the radius of the circle : \"))\n",
    "print (\"The area of the circle with radius \" + str(r) + \" is: \" + str(pi * r**2))\n"
   ]
  },
  {
   "cell_type": "markdown",
   "id": "470b55f0",
   "metadata": {},
   "source": [
    "### Concatenation of strings program"
   ]
  },
  {
   "cell_type": "code",
   "execution_count": 6,
   "id": "30bf54d4",
   "metadata": {},
   "outputs": [
    {
     "name": "stdout",
     "output_type": "stream",
     "text": [
      "lavanya\n",
      "kundrapu\n",
      "kundrapu lavanya\n"
     ]
    }
   ],
   "source": [
    "a=input()\n",
    "b=input()\n",
    "print(b+' '+ a)"
   ]
  },
  {
   "cell_type": "markdown",
   "id": "9541afcf",
   "metadata": {},
   "source": [
    "### Program to add extension"
   ]
  },
  {
   "cell_type": "code",
   "execution_count": 7,
   "id": "6a730abc",
   "metadata": {},
   "outputs": [
    {
     "name": "stdout",
     "output_type": "stream",
     "text": [
      "filename: lavanya.py\n",
      "py\n"
     ]
    }
   ],
   "source": [
    "a=input('filename:')\n",
    "b=a.split('.')\n",
    "print(b[-1])"
   ]
  },
  {
   "cell_type": "markdown",
   "id": "2cde9b9b",
   "metadata": {},
   "source": [
    "### Program on indexing"
   ]
  },
  {
   "cell_type": "code",
   "execution_count": 8,
   "id": "51a3558e",
   "metadata": {},
   "outputs": [
    {
     "name": "stdout",
     "output_type": "stream",
     "text": [
      "Red Black\n"
     ]
    }
   ],
   "source": [
    "a= [\"Red\",\"Green\",\"White\" ,\"Black\"]\n",
    "print(a[0],a[-1])\n"
   ]
  },
  {
   "cell_type": "markdown",
   "id": "c7001deb",
   "metadata": {},
   "source": [
    "### Program to add format to date"
   ]
  },
  {
   "cell_type": "code",
   "execution_count": 9,
   "id": "ca7f37cb",
   "metadata": {},
   "outputs": [
    {
     "name": "stdout",
     "output_type": "stream",
     "text": [
      "11/12/2014\n"
     ]
    }
   ],
   "source": [
    "a=(11, 12, 2014)\n",
    "print('%i/%i/%i'%a)\n"
   ]
  },
  {
   "cell_type": "markdown",
   "id": "4c945849",
   "metadata": {},
   "source": [
    "### Write a program for following case- input=5 then process = 5+55+555, which gives output 615."
   ]
  },
  {
   "cell_type": "code",
   "execution_count": 10,
   "id": "c2900185",
   "metadata": {},
   "outputs": [
    {
     "name": "stdout",
     "output_type": "stream",
     "text": [
      "Input an integer : 5\n",
      "615\n"
     ]
    }
   ],
   "source": [
    "a = int(input(\"Input an integer : \"))\n",
    "n1 = int( \"%s\" % a )\n",
    "n2 = int( \"%s%s\" % (a,a) )\n",
    "n3 = int( \"%s%s%s\" % (a,a,a) )\n",
    "print (n1+n2+n3)\n"
   ]
  },
  {
   "cell_type": "markdown",
   "id": "8aae2bb9",
   "metadata": {},
   "source": [
    "### Calendar program"
   ]
  },
  {
   "cell_type": "code",
   "execution_count": 11,
   "id": "9670c3ea",
   "metadata": {},
   "outputs": [
    {
     "name": "stdout",
     "output_type": "stream",
     "text": [
      "year:2022\n",
      "month:8\n",
      "    August 2022\n",
      "Mo Tu We Th Fr Sa Su\n",
      " 1  2  3  4  5  6  7\n",
      " 8  9 10 11 12 13 14\n",
      "15 16 17 18 19 20 21\n",
      "22 23 24 25 26 27 28\n",
      "29 30 31\n",
      "\n"
     ]
    }
   ],
   "source": [
    "import calendar\n",
    "y=int(input('year:'))\n",
    "m=int(input('month:'))\n",
    "print(calendar.month(y,m))"
   ]
  },
  {
   "cell_type": "markdown",
   "id": "d9e555e6",
   "metadata": {},
   "source": [
    "### Example of multiline print statement"
   ]
  },
  {
   "cell_type": "code",
   "execution_count": 12,
   "id": "97e538e6",
   "metadata": {},
   "outputs": [
    {
     "name": "stdout",
     "output_type": "stream",
     "text": [
      "a string that you \"don't\" have to escape\n",
      "This\n",
      "is a ....... multi-line\n",
      "heredoc string --------> example\n",
      "\n",
      "\n"
     ]
    }
   ],
   "source": [
    "print('''a string that you \"don't\" have to escape\n",
    "This\n",
    "is a ....... multi-line\n",
    "heredoc string --------> example\n",
    "\n",
    "''')\n"
   ]
  },
  {
   "cell_type": "markdown",
   "id": "c2c5727d",
   "metadata": {},
   "source": [
    "### Program to know the number of days between two dates"
   ]
  },
  {
   "cell_type": "code",
   "execution_count": 13,
   "id": "0566e9e2",
   "metadata": {},
   "outputs": [
    {
     "name": "stdout",
     "output_type": "stream",
     "text": [
      "2022\n",
      "8\n",
      "27\n",
      "2000\n",
      "8\n",
      "27\n",
      "-8035\n"
     ]
    }
   ],
   "source": [
    "from datetime import date\n",
    "y1=int(input())\n",
    "m1=int(input())\n",
    "d1=int(input())\n",
    "y2=int(input())\n",
    "m2=int(input())\n",
    "d2=int(input())\n",
    "s=date(y1,m1,d1)\n",
    "e=date(y2,m2,d2)\n",
    "d=e-s\n",
    "print(d.days)"
   ]
  },
  {
   "cell_type": "markdown",
   "id": "dcf95f61",
   "metadata": {},
   "source": [
    "### Write a program to find volume of sphere."
   ]
  },
  {
   "cell_type": "code",
   "execution_count": 1,
   "id": "dfa351d9",
   "metadata": {},
   "outputs": [
    {
     "name": "stdout",
     "output_type": "stream",
     "text": [
      "5\n",
      "volume of the sphere: 523.8095238095237\n"
     ]
    }
   ],
   "source": [
    "r=int(input())\n",
    "print('volume of the sphere:',(4/3)*(22/7)*r**3)"
   ]
  },
  {
   "cell_type": "markdown",
   "id": "ebe18505",
   "metadata": {},
   "source": [
    "### Write a program that takes input from user if the input is greater than 17 then it should me subtracted from 17 and multiplied by 2.else 17 minus input. "
   ]
  },
  {
   "cell_type": "code",
   "execution_count": 2,
   "id": "7a041be2",
   "metadata": {},
   "outputs": [
    {
     "name": "stdout",
     "output_type": "stream",
     "text": [
      "9\n",
      "8\n"
     ]
    }
   ],
   "source": [
    "a=int(input())\n",
    "if a>17:\n",
    "    print((a-17)*2)\n",
    "else:\n",
    "    print(17-a)\n"
   ]
  }
 ],
 "metadata": {
  "kernelspec": {
   "display_name": "Python 3 (ipykernel)",
   "language": "python",
   "name": "python3"
  },
  "language_info": {
   "codemirror_mode": {
    "name": "ipython",
    "version": 3
   },
   "file_extension": ".py",
   "mimetype": "text/x-python",
   "name": "python",
   "nbconvert_exporter": "python",
   "pygments_lexer": "ipython3",
   "version": "3.9.12"
  }
 },
 "nbformat": 4,
 "nbformat_minor": 5
}
