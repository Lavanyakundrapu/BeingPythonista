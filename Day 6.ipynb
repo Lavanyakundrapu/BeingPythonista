{
 "cells": [
  {
   "cell_type": "markdown",
   "id": "b6651bb7",
   "metadata": {},
   "source": [
    "# Functions\n",
    "* It is subprogram that performs a specific task and returns a value.\n",
    "* Types of functions\n",
    "    - User defined functions: Defined by user to perform specific task.\n",
    "    - Built-in functions:These are predefined functions. Like functions in libraries.\n",
    "* Function header: Starts with def continued with our function name and its parameters, ends with colon(:). Eg: `def TAG():`\n",
    "* Function parameters: Variables inside the brackets of function header. Also called as arguments.\n",
    "* Function call: Execution is done by calling the function. Function call is done only after the function. Eg: `TAG()` \n",
    "\n",
    "* Function Anatomy:\n",
    "\n",
    "```python\n",
    "def functionname(parameter):\n",
    "    block of statements (Body of the function)\n",
    "    return value\n",
    "```\n",
    "\n",
    "```python\n",
    "def functionname(parameter):\n",
    "    block of statements (Body of the function)\n",
    "print statement\n",
    "functionname(value)\n",
    "```\n",
    "\n",
    "* Passing parameters:\n",
    "    - Also knowns as Passing arguments\n",
    "    - Three types. Positional/ required Parameters, Default parameters, Keyword parameters\n",
    "    - Positional Arguments:\n",
    "        - Function call statement should match number and order of the arguments as defined in header.\n",
    "        - Example: if header is `def TAG(a,b,c):` then call can be `TAG(a,b,c)` or `TAG(X,Y,Z)` or `TAG(1,2,3)` but cannot be `TAG(X,Y)` or `TAG(a,b,c,d)` or `TAG(1)` \n",
    "\n",
    "     - Default Arguments:\n",
    "         - Having defined value in the function.\n",
    "         - Example: def TAG(a=9,b=16):\n",
    "         - Value assigned in the function is considered if no value is provided in the function call.\n",
    "     - Keyword Arguments:\n",
    "         - Function call arguments consists of assigned values.\n",
    "         - Example: print(TAG(a=9,b=16))"
   ]
  },
  {
   "cell_type": "markdown",
   "id": "7d569d0c",
   "metadata": {},
   "source": [
    "### Write a program to add two numbers using functions."
   ]
  },
  {
   "cell_type": "code",
   "execution_count": 1,
   "id": "1726c83e",
   "metadata": {},
   "outputs": [
    {
     "name": "stdout",
     "output_type": "stream",
     "text": [
      "13\n"
     ]
    }
   ],
   "source": [
    "def add(a=9,b=3):\n",
    "    x=a+b\n",
    "    return(x)\n",
    "print(add(10,3))    \n",
    "#add(9,3)"
   ]
  },
  {
   "cell_type": "code",
   "execution_count": 2,
   "id": "c397c27d",
   "metadata": {},
   "outputs": [
    {
     "name": "stdout",
     "output_type": "stream",
     "text": [
      "12\n"
     ]
    }
   ],
   "source": [
    "def add(a=9,b=3):\n",
    "    x=a+b\n",
    "    print(x)\n",
    "add(9,3)"
   ]
  },
  {
   "cell_type": "markdown",
   "id": "2714ae27",
   "metadata": {},
   "source": [
    "### Write a program that provides options to choose arthematic operations to be performed."
   ]
  },
  {
   "cell_type": "code",
   "execution_count": 3,
   "id": "ca6f556a",
   "metadata": {},
   "outputs": [
    {
     "name": "stdout",
     "output_type": "stream",
     "text": [
      "8\n",
      "9\n",
      "c for add , d for sub,e for multiply,f for div,g for power. choose ur input: c\n",
      "17\n"
     ]
    }
   ],
   "source": [
    "a1=int(input())\n",
    "a2=int(input())\n",
    "b=input(\"c for add , d for sub,e for multiply,f for div,g for power. choose ur input: \")\n",
    "if b=='c':\n",
    "    print(a1+a2)\n",
    "elif b=='d':\n",
    "    print(a1-a2)\n",
    "elif b=='e':\n",
    "    print(a1*a2)\n",
    "elif b=='f':\n",
    "    print(a1/a2)\n",
    "elif b=='g':\n",
    "    print(a1**a2)\n",
    "else:\n",
    "    print('get out')\n",
    "\n",
    "    "
   ]
  },
  {
   "cell_type": "markdown",
   "id": "95e07924",
   "metadata": {},
   "source": [
    "### Write a program for grading."
   ]
  },
  {
   "cell_type": "code",
   "execution_count": 4,
   "id": "70149231",
   "metadata": {},
   "outputs": [
    {
     "name": "stdout",
     "output_type": "stream",
     "text": [
      "56\n",
      "B\n"
     ]
    }
   ],
   "source": [
    "a=float(input())\n",
    "if a>=90:\n",
    "    print(\"o\")\n",
    "elif a in range(80,90):\n",
    "    print('A+')\n",
    "elif a in range(70,80):\n",
    "    print('A')\n",
    "elif a in range(60,70):\n",
    "    print('B+')\n",
    "elif a in range(50,60):\n",
    "    print(\"B\")\n",
    "elif a in range(40,50):\n",
    "    print(\"Pass\")\n",
    "else:\n",
    "    print('Fail')"
   ]
  }
 ],
 "metadata": {
  "kernelspec": {
   "display_name": "Python 3 (ipykernel)",
   "language": "python",
   "name": "python3"
  },
  "language_info": {
   "codemirror_mode": {
    "name": "ipython",
    "version": 3
   },
   "file_extension": ".py",
   "mimetype": "text/x-python",
   "name": "python",
   "nbconvert_exporter": "python",
   "pygments_lexer": "ipython3",
   "version": "3.9.12"
  }
 },
 "nbformat": 4,
 "nbformat_minor": 5
}
