{
 "cells": [
  {
   "cell_type": "markdown",
   "id": "753cf7e6",
   "metadata": {},
   "source": [
    "#### User Input\n",
    "- Input from the user can be accepted using `input()`"
   ]
  },
  {
   "cell_type": "code",
   "execution_count": 1,
   "id": "900bdffa",
   "metadata": {},
   "outputs": [
    {
     "name": "stdout",
     "output_type": "stream",
     "text": [
      "6\n",
      "6\n"
     ]
    }
   ],
   "source": [
    "a=input()\n",
    "print(a)"
   ]
  },
  {
   "cell_type": "code",
   "execution_count": 4,
   "id": "7c0dd561",
   "metadata": {},
   "outputs": [
    {
     "name": "stdout",
     "output_type": "stream",
     "text": [
      "7\n",
      "8\n",
      "15\n"
     ]
    }
   ],
   "source": [
    "a=int(input())\n",
    "b=int(input())\n",
    "print(a+b)"
   ]
  },
  {
   "cell_type": "code",
   "execution_count": 5,
   "id": "42bf215b",
   "metadata": {},
   "outputs": [
    {
     "name": "stdout",
     "output_type": "stream",
     "text": [
      "Enter your name: Lavanya\n"
     ]
    }
   ],
   "source": [
    "Name = input('Enter your name: ')"
   ]
  },
  {
   "cell_type": "markdown",
   "id": "37ef4e7a",
   "metadata": {},
   "source": [
    "# Exercise"
   ]
  },
  {
   "cell_type": "markdown",
   "id": "36e857ff",
   "metadata": {},
   "source": [
    "* Take hour as input from the user and convert it into minutes and seconds\n",
    "* Same like above question, Take day as input and convert it into hours, minutes and seconds.\n",
    "* Accept 5 student names in one input call and print them one after the other.\n",
    "* Take string input from the user and create a new string made with middle three characters of the user-input string.\n",
    "* Take first name and last name from the user and print full name.\n",
    "* Take two strings as input. Create new string by appending string 2 to middle of string 1."
   ]
  },
  {
   "cell_type": "code",
   "execution_count": 11,
   "id": "26d249d6",
   "metadata": {},
   "outputs": [
    {
     "name": "stdout",
     "output_type": "stream",
     "text": [
      "5\n",
      "300\n",
      "18000\n"
     ]
    }
   ],
   "source": [
    "a=int(input())\n",
    "print(a*60)\n",
    "print(a*3600)\n"
   ]
  },
  {
   "cell_type": "code",
   "execution_count": 12,
   "id": "eb583472",
   "metadata": {},
   "outputs": [
    {
     "name": "stdout",
     "output_type": "stream",
     "text": [
      "5\n",
      "120\n",
      "7200\n",
      "432000\n"
     ]
    }
   ],
   "source": [
    "a=int(input())\n",
    "print(a*24)\n",
    "print(a*24*60)\n",
    "print(a*24*60*60)"
   ]
  },
  {
   "cell_type": "code",
   "execution_count": 13,
   "id": "213b0665",
   "metadata": {},
   "outputs": [
    {
     "name": "stdout",
     "output_type": "stream",
     "text": [
      "Time (in Hours): 5\n",
      "Minutes:  300\n",
      "Seconds:  18000\n"
     ]
    }
   ],
   "source": [
    "a=int(input('Time (in Hours): '))\n",
    "print('Minutes: ',a*60)\n",
    "print('Seconds: ',a*60*60)"
   ]
  },
  {
   "cell_type": "code",
   "execution_count": 15,
   "id": "652585dd",
   "metadata": {},
   "outputs": [
    {
     "name": "stdout",
     "output_type": "stream",
     "text": [
      "days5\n",
      "hours: 120\n",
      "min: 7200\n",
      "sec: 432000\n"
     ]
    }
   ],
   "source": [
    "a=int(input('days'))\n",
    "print('hours:',a*24)\n",
    "print('min:',a*24*60)\n",
    "print('sec:',a*24*60*60)"
   ]
  },
  {
   "cell_type": "code",
   "execution_count": 23,
   "id": "9b71a2b7",
   "metadata": {},
   "outputs": [
    {
     "name": "stdout",
     "output_type": "stream",
     "text": [
      "la va ny a op\n",
      "la\n",
      "va\n",
      "ny\n",
      "a\n",
      "op\n"
     ]
    }
   ],
   "source": [
    "a,b,c,d,e=input().split()\n",
    "print(a);print(b);print(c);print(d);print(e)"
   ]
  },
  {
   "cell_type": "code",
   "execution_count": 1,
   "id": "3f2ec83a",
   "metadata": {},
   "outputs": [
    {
     "name": "stdout",
     "output_type": "stream",
     "text": [
      "jupyter\n",
      "pyt\n"
     ]
    }
   ],
   "source": [
    "a=input()\n",
    "b=int(len(a)/2)\n",
    "c=a[b-1:b+2]\n",
    "print(c)\n"
   ]
  },
  {
   "cell_type": "code",
   "execution_count": 3,
   "id": "42fc536b",
   "metadata": {},
   "outputs": [
    {
     "name": "stdout",
     "output_type": "stream",
     "text": [
      "first name:Lavanya\n",
      "last name:kundrapu\n",
      "Lavanyakundrapu\n"
     ]
    }
   ],
   "source": [
    "a= input('first name:')\n",
    "b= input('last name:')\n",
    "print(a + b)"
   ]
  },
  {
   "cell_type": "code",
   "execution_count": 13,
   "id": "78f449c3",
   "metadata": {},
   "outputs": [
    {
     "name": "stdout",
     "output_type": "stream",
     "text": [
      "lavanya\n",
      "oldiee\n",
      "lavoldieeanya\n"
     ]
    }
   ],
   "source": [
    "a=input()\n",
    "b=input()\n",
    "M=int(len(a)/2)\n",
    "n=a[:M:]\n",
    "n=n+b \n",
    "n=n+a[M:]\n",
    "print(n)"
   ]
  }
 ],
 "metadata": {
  "kernelspec": {
   "display_name": "Python 3 (ipykernel)",
   "language": "python",
   "name": "python3"
  },
  "language_info": {
   "codemirror_mode": {
    "name": "ipython",
    "version": 3
   },
   "file_extension": ".py",
   "mimetype": "text/x-python",
   "name": "python",
   "nbconvert_exporter": "python",
   "pygments_lexer": "ipython3",
   "version": "3.9.12"
  }
 },
 "nbformat": 4,
 "nbformat_minor": 5
}
