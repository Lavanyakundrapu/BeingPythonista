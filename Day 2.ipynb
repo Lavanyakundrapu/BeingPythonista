{
 "cells": [
  {
   "cell_type": "markdown",
   "id": "c29025aa",
   "metadata": {},
   "source": [
    "#### Boolean\n",
    "\n",
    "* Used to represent the `TRUE` or `FALSE` of an expression\n",
    "* `bool()` function is evaluate any value and gives `TRUE` or `FALSE`"
   ]
  },
  {
   "cell_type": "code",
   "execution_count": 1,
   "id": "13fc2378",
   "metadata": {},
   "outputs": [
    {
     "name": "stdout",
     "output_type": "stream",
     "text": [
      "True\n"
     ]
    }
   ],
   "source": [
    "a=35\n",
    "b=43\n",
    "print(a<b)\n"
   ]
  },
  {
   "cell_type": "code",
   "execution_count": 3,
   "id": "38688668",
   "metadata": {},
   "outputs": [
    {
     "name": "stdout",
     "output_type": "stream",
     "text": [
      "True\n",
      "False\n"
     ]
    }
   ],
   "source": [
    "a=43\n",
    "b=\"\"\n",
    "print(bool(a))\n",
    "print(bool(b))"
   ]
  },
  {
   "cell_type": "code",
   "execution_count": 5,
   "id": "71ab909d",
   "metadata": {},
   "outputs": [
    {
     "name": "stdout",
     "output_type": "stream",
     "text": [
      "True\n",
      "False\n",
      "False\n"
     ]
    }
   ],
   "source": [
    "print(16 > 9)\n",
    "print(16 == 9)\n",
    "print(12 < 3)"
   ]
  },
  {
   "cell_type": "code",
   "execution_count": 6,
   "id": "0808b78d",
   "metadata": {},
   "outputs": [
    {
     "name": "stdout",
     "output_type": "stream",
     "text": [
      "True\n",
      "True\n",
      "True\n",
      "False\n",
      "False\n",
      "False\n",
      "False\n",
      "False\n",
      "False\n",
      "False\n"
     ]
    }
   ],
   "source": [
    "print(bool(\"Finisher\"))\n",
    "print(bool(1612))\n",
    "print(bool([\"BGMI\", \"COD\", \"WCC\"]))\n",
    "print(bool(False))\n",
    "print(bool(None))\n",
    "print(bool(0))\n",
    "print(bool(\"\"))\n",
    "print(bool(()))\n",
    "print(bool([]))\n",
    "print(bool({}))"
   ]
  },
  {
   "cell_type": "markdown",
   "id": "3751e399",
   "metadata": {},
   "source": [
    "------------------------\n",
    "### Operators\n",
    "\n",
    "* Performs operations on variables and values.\n",
    "* Operators are divided as follows:\n",
    "    * Arithmetic operators\n",
    "    * Assignment operators\n",
    "    * Comparison operators\n",
    "    * Logical operators\n",
    "    * Identity operators\n",
    "    * Membership operators\n",
    "    * Bitwise operators\n",
    "------------------------"
   ]
  },
  {
   "cell_type": "markdown",
   "id": "2fbd880e",
   "metadata": {},
   "source": [
    "#### Arithmetic Operators"
   ]
  },
  {
   "cell_type": "code",
   "execution_count": 7,
   "id": "2c684928",
   "metadata": {},
   "outputs": [
    {
     "name": "stdout",
     "output_type": "stream",
     "text": [
      "18\n"
     ]
    }
   ],
   "source": [
    "a=9\n",
    "b=9\n",
    "print(a+b)"
   ]
  },
  {
   "cell_type": "code",
   "execution_count": 8,
   "id": "e1edacd5",
   "metadata": {},
   "outputs": [
    {
     "name": "stdout",
     "output_type": "stream",
     "text": [
      "0\n"
     ]
    }
   ],
   "source": [
    "a=9\n",
    "b=9\n",
    "print(a-b)"
   ]
  },
  {
   "cell_type": "code",
   "execution_count": 9,
   "id": "fa081678",
   "metadata": {},
   "outputs": [
    {
     "name": "stdout",
     "output_type": "stream",
     "text": [
      "81\n"
     ]
    }
   ],
   "source": [
    "a=9\n",
    "b=9\n",
    "print(a*b)"
   ]
  },
  {
   "cell_type": "code",
   "execution_count": 10,
   "id": "e8f2484a",
   "metadata": {},
   "outputs": [
    {
     "name": "stdout",
     "output_type": "stream",
     "text": [
      "1.0\n"
     ]
    }
   ],
   "source": [
    "a=9\n",
    "b=9\n",
    "print(a/b)"
   ]
  },
  {
   "cell_type": "code",
   "execution_count": 11,
   "id": "02677d52",
   "metadata": {},
   "outputs": [
    {
     "name": "stdout",
     "output_type": "stream",
     "text": [
      "1\n"
     ]
    }
   ],
   "source": [
    "a=9\n",
    "b=9\n",
    "print(a//b)"
   ]
  },
  {
   "cell_type": "code",
   "execution_count": 12,
   "id": "c6eb3f29",
   "metadata": {},
   "outputs": [
    {
     "name": "stdout",
     "output_type": "stream",
     "text": [
      "0\n"
     ]
    }
   ],
   "source": [
    "a=9\n",
    "b=9\n",
    "print(a%b)"
   ]
  },
  {
   "cell_type": "code",
   "execution_count": 13,
   "id": "97b4a8d4",
   "metadata": {},
   "outputs": [
    {
     "name": "stdout",
     "output_type": "stream",
     "text": [
      "387420489\n"
     ]
    }
   ],
   "source": [
    "a=9\n",
    "b=9\n",
    "print(a**b)"
   ]
  },
  {
   "cell_type": "code",
   "execution_count": 14,
   "id": "d39ad7d7",
   "metadata": {},
   "outputs": [
    {
     "name": "stdout",
     "output_type": "stream",
     "text": [
      "25\n",
      "7\n",
      "144\n",
      "1.7777777777777777\n",
      "7\n",
      "68719476736\n",
      "1\n"
     ]
    }
   ],
   "source": [
    "x = 16\n",
    "y = 9\n",
    "print(x+y) # Addition\n",
    "print(x-y) # Subtraction\n",
    "print(x*y) # Multiplication\n",
    "print(x/y) # Division\n",
    "print(x%y) # Modulus\n",
    "print(x**y) # Exponentiation\n",
    "print(x//y) # Floor Division"
   ]
  },
  {
   "cell_type": "markdown",
   "id": "855769b4",
   "metadata": {},
   "source": [
    "#### Assignment Operators\n",
    "\n",
    "* Used to assign values to the variables.\n",
    "\n",
    "```python\n",
    "z = 16 #Operator z = 16\n",
    "z += 16 #Operator z = z + 16\n",
    "z -= 16 #Operator z = z - 16\n",
    "z *= 16 #Operator z = z * 16\n",
    "z /= 16 #Operator z = z/16\n",
    "z %= 16 #Operator z = z % 16\n",
    "z //= 16 #Operator z = z // 16\n",
    "z **= 16 #Operator z = z**16\n",
    "z &= 16 #Operator z = z & 16\n",
    "z |= 16 #Operator z = z | 16\n",
    "z ^= 16 #Operator z = z ^ 16\n",
    "z >>= 16 #Operator z = z >> 16\n",
    "z <<= 16 #Operator z = z << 16\n",
    "```"
   ]
  },
  {
   "cell_type": "code",
   "execution_count": 22,
   "id": "b917504d",
   "metadata": {},
   "outputs": [
    {
     "name": "stdout",
     "output_type": "stream",
     "text": [
      "12\n"
     ]
    }
   ],
   "source": [
    "z=9\n",
    "z +=3\n",
    "print(z)"
   ]
  },
  {
   "cell_type": "code",
   "execution_count": 23,
   "id": "8bb28c24",
   "metadata": {},
   "outputs": [
    {
     "name": "stdout",
     "output_type": "stream",
     "text": [
      "12\n"
     ]
    }
   ],
   "source": [
    "print(z)"
   ]
  },
  {
   "cell_type": "code",
   "execution_count": 24,
   "id": "df688cbb",
   "metadata": {},
   "outputs": [
    {
     "name": "stdout",
     "output_type": "stream",
     "text": [
      "8\n"
     ]
    }
   ],
   "source": [
    "z-=4\n",
    "print(z)"
   ]
  },
  {
   "cell_type": "code",
   "execution_count": 25,
   "id": "33ec759e",
   "metadata": {},
   "outputs": [
    {
     "name": "stdout",
     "output_type": "stream",
     "text": [
      "16\n"
     ]
    }
   ],
   "source": [
    "z *=2\n",
    "print(z)"
   ]
  },
  {
   "cell_type": "code",
   "execution_count": 26,
   "id": "4c2961e8",
   "metadata": {},
   "outputs": [
    {
     "name": "stdout",
     "output_type": "stream",
     "text": [
      "5.333333333333333\n"
     ]
    }
   ],
   "source": [
    "z/=3\n",
    "print(z)"
   ]
  },
  {
   "cell_type": "markdown",
   "id": "74f39a78",
   "metadata": {},
   "source": [
    "#### Comparision Operators\n",
    "* Used to compare to values"
   ]
  },
  {
   "cell_type": "code",
   "execution_count": 28,
   "id": "c9f4ea87",
   "metadata": {},
   "outputs": [
    {
     "name": "stdout",
     "output_type": "stream",
     "text": [
      "False\n"
     ]
    }
   ],
   "source": [
    "n=98\n",
    "m=23\n",
    "print(n==m)"
   ]
  },
  {
   "cell_type": "code",
   "execution_count": 29,
   "id": "5e8f21b9",
   "metadata": {},
   "outputs": [
    {
     "name": "stdout",
     "output_type": "stream",
     "text": [
      "True\n"
     ]
    }
   ],
   "source": [
    "n=78\n",
    "m=34\n",
    "print(n>m)"
   ]
  },
  {
   "cell_type": "code",
   "execution_count": 30,
   "id": "ac2fc683",
   "metadata": {},
   "outputs": [
    {
     "name": "stdout",
     "output_type": "stream",
     "text": [
      "False\n"
     ]
    }
   ],
   "source": [
    "n=27\n",
    "m=82\n",
    "print(n>m)"
   ]
  },
  {
   "cell_type": "code",
   "execution_count": 31,
   "id": "c68c41f0",
   "metadata": {},
   "outputs": [
    {
     "name": "stdout",
     "output_type": "stream",
     "text": [
      "False\n",
      "True\n",
      "True\n",
      "False\n",
      "True\n",
      "False\n"
     ]
    }
   ],
   "source": [
    "print(16 == 9) #Equal\n",
    "print(16 != 9) #Not equal\n",
    "print(16 > 9) #Greater than\n",
    "print(16 < 9) #Less than\n",
    "print(16 >= 9) #Greater than or Equal to\n",
    "print(16 <= 9) #Less than or Equal to"
   ]
  },
  {
   "cell_type": "markdown",
   "id": "1dea82d9",
   "metadata": {},
   "source": [
    "#### Logical Operators\n",
    "\n",
    "* Used to combine conditional statements. (and, or, not)"
   ]
  },
  {
   "cell_type": "code",
   "execution_count": 32,
   "id": "267370ee",
   "metadata": {},
   "outputs": [
    {
     "name": "stdout",
     "output_type": "stream",
     "text": [
      "False\n"
     ]
    }
   ],
   "source": [
    "l=45\n",
    "v=78\n",
    "print(l>v and v>l)"
   ]
  },
  {
   "cell_type": "code",
   "execution_count": 33,
   "id": "90c7ccb0",
   "metadata": {},
   "outputs": [
    {
     "name": "stdout",
     "output_type": "stream",
     "text": [
      "True\n"
     ]
    }
   ],
   "source": [
    "l=45\n",
    "v=78\n",
    "print(l>v or v>l)"
   ]
  },
  {
   "cell_type": "code",
   "execution_count": 39,
   "id": "f5783920",
   "metadata": {},
   "outputs": [
    {
     "name": "stdout",
     "output_type": "stream",
     "text": [
      "False\n",
      "False\n",
      "True\n"
     ]
    }
   ],
   "source": [
    "w = 9\n",
    "print(w < 5 and  w < 10)\n",
    "print(w < 5 or w < 4)\n",
    "print(not(w < 5 and w < 10))"
   ]
  },
  {
   "cell_type": "markdown",
   "id": "fa1b2d36",
   "metadata": {},
   "source": [
    "#### Identity Operators\n",
    "\n",
    "* Compares the memory locations of two objects. (is, is not)"
   ]
  },
  {
   "cell_type": "code",
   "execution_count": 40,
   "id": "20405432",
   "metadata": {},
   "outputs": [
    {
     "name": "stdout",
     "output_type": "stream",
     "text": [
      "False\n"
     ]
    }
   ],
   "source": [
    "s=9\n",
    "p=5\n",
    "print(s is p)"
   ]
  },
  {
   "cell_type": "code",
   "execution_count": 42,
   "id": "d6146b6d",
   "metadata": {},
   "outputs": [
    {
     "name": "stdout",
     "output_type": "stream",
     "text": [
      "True\n"
     ]
    }
   ],
   "source": [
    "s=9\n",
    "p=9\n",
    "print(s is p)"
   ]
  },
  {
   "cell_type": "code",
   "execution_count": 43,
   "id": "81847a15",
   "metadata": {},
   "outputs": [
    {
     "name": "stdout",
     "output_type": "stream",
     "text": [
      "True\n",
      "False\n",
      "True\n"
     ]
    }
   ],
   "source": [
    "x = [\"brain\", \"heart\"]\n",
    "y = [\"brain\", \"heart\"]\n",
    "z = x\n",
    "print(x is z)\n",
    "print(x is y)\n",
    "print(x == y)"
   ]
  },
  {
   "cell_type": "markdown",
   "id": "e221746b",
   "metadata": {},
   "source": [
    "#### Membership Operators\n",
    "* True if it finds a specified value in the sequence and false otherwise (in, not in)."
   ]
  },
  {
   "cell_type": "code",
   "execution_count": 44,
   "id": "d94fc8f0",
   "metadata": {},
   "outputs": [
    {
     "name": "stdout",
     "output_type": "stream",
     "text": [
      "False\n",
      "True\n"
     ]
    }
   ],
   "source": [
    "f=[49, 76, 89]\n",
    "r=[23,87,98]\n",
    "print(76 in r)\n",
    "print(76 in f)\n"
   ]
  },
  {
   "cell_type": "code",
   "execution_count": 45,
   "id": "2e2b7bfa",
   "metadata": {},
   "outputs": [
    {
     "name": "stdout",
     "output_type": "stream",
     "text": [
      "True\n",
      "True\n"
     ]
    }
   ],
   "source": [
    "RRR = [\"rise\", \"roar\", \"revolt\"]\n",
    "\n",
    "print(\"roar\" in RRR)\n",
    "print(\"revenge\" not in RRR)"
   ]
  },
  {
   "cell_type": "markdown",
   "id": "6d1b4dd2",
   "metadata": {},
   "source": [
    "#### Bitwise Operators\n",
    "* Used to compare binary numbers. (&, |, ^, ~, <<, >>)"
   ]
  },
  {
   "cell_type": "code",
   "execution_count": 46,
   "id": "1780da82",
   "metadata": {},
   "outputs": [
    {
     "name": "stdout",
     "output_type": "stream",
     "text": [
      "0\n",
      "14\n",
      "-11\n",
      "14\n",
      "2\n",
      "40\n"
     ]
    }
   ],
   "source": [
    "m = 10\n",
    "n = 4\n",
    "print(m & n) #Bitwise AND operation\n",
    "print(m | n) #Bitwise OR operation\n",
    "print(~m) #Bitwise NOT operation\n",
    "print(m ^ n) #Bitwise XOR operation\n",
    "print(m >> 2) #Bitwise right shift operation\n",
    "print(m << 2) #Bitwise left shift operation"
   ]
  }
 ],
 "metadata": {
  "kernelspec": {
   "display_name": "Python 3 (ipykernel)",
   "language": "python",
   "name": "python3"
  },
  "language_info": {
   "codemirror_mode": {
    "name": "ipython",
    "version": 3
   },
   "file_extension": ".py",
   "mimetype": "text/x-python",
   "name": "python",
   "nbconvert_exporter": "python",
   "pygments_lexer": "ipython3",
   "version": "3.9.12"
  }
 },
 "nbformat": 4,
 "nbformat_minor": 5
}
