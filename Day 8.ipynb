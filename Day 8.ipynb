{
 "cells": [
  {
   "cell_type": "markdown",
   "id": "f39e6982",
   "metadata": {},
   "source": [
    "# Lists\n",
    "* Stores multiple items in single variable\n",
    "* Defined using square brackets `[]`.\n",
    "* List can contain various data types.\n",
    "* Lists are mutable. - can be changed.\n",
    "* First element in index starts with 0. i.e. [0].\n",
    "* Lists are ordered newly added element will be placed at the end."
   ]
  },
  {
   "cell_type": "markdown",
   "id": "3206c2f9",
   "metadata": {},
   "source": [
    "### Lists exercises"
   ]
  },
  {
   "cell_type": "code",
   "execution_count": 1,
   "id": "2fa9a336",
   "metadata": {},
   "outputs": [
    {
     "name": "stdout",
     "output_type": "stream",
     "text": [
      "<class 'list'>\n"
     ]
    }
   ],
   "source": [
    "'''\n",
    "To know whether list it is a list or not - type() can be used.\n",
    "'''\n",
    "\n",
    "a = [\"rafting\", \"sailing\", \"surfing\"]\n",
    "print(type(a))"
   ]
  },
  {
   "cell_type": "code",
   "execution_count": 2,
   "id": "f044bc1f",
   "metadata": {},
   "outputs": [
    {
     "name": "stdout",
     "output_type": "stream",
     "text": [
      "['Python', 1980, True]\n",
      "<class 'list'>\n"
     ]
    }
   ],
   "source": [
    "'''\n",
    "List can contain multiple data types\n",
    "'''\n",
    "b = ['Python',1980,True]\n",
    "print(b)\n",
    "print(type(b))"
   ]
  },
  {
   "cell_type": "code",
   "execution_count": 3,
   "id": "864fdf48",
   "metadata": {},
   "outputs": [
    {
     "name": "stdout",
     "output_type": "stream",
     "text": [
      "<class 'list'>\n"
     ]
    }
   ],
   "source": [
    "'''\n",
    "List without any elements is EMPTY LIST\n",
    "'''\n",
    "c = []\n",
    "print(type(c))"
   ]
  },
  {
   "cell_type": "code",
   "execution_count": 4,
   "id": "948485de",
   "metadata": {},
   "outputs": [
    {
     "name": "stdout",
     "output_type": "stream",
     "text": [
      "<class 'list'>\n",
      "16\n"
     ]
    }
   ],
   "source": [
    "'''\n",
    "List inside another list is known as NESTED LIST\n",
    "'''\n",
    "d = [9,3,0,[16,12],99]\n",
    "print(type(d))\n",
    "print(d[3][0]) # To call an element from nested list."
   ]
  },
  {
   "cell_type": "code",
   "execution_count": 5,
   "id": "e3f0018b",
   "metadata": {},
   "outputs": [
    {
     "name": "stdout",
     "output_type": "stream",
     "text": [
      "14\n"
     ]
    }
   ],
   "source": [
    "'''\n",
    "len()is used to know the length of the list.\n",
    "'''\n",
    "e = [2,1,0,1,9,7,5,2,1,0,2,1,0,5]\n",
    "print(len(e))"
   ]
  },
  {
   "cell_type": "code",
   "execution_count": 6,
   "id": "f6366d42",
   "metadata": {},
   "outputs": [
    {
     "data": {
      "text/plain": [
       "4"
      ]
     },
     "execution_count": 6,
     "metadata": {},
     "output_type": "execute_result"
    }
   ],
   "source": [
    "'''\n",
    "index() - returns index of an element in the list\n",
    "'''\n",
    "e.index(9)"
   ]
  },
  {
   "cell_type": "code",
   "execution_count": 7,
   "id": "0cb9d5c2",
   "metadata": {},
   "outputs": [
    {
     "name": "stdout",
     "output_type": "stream",
     "text": [
      "['tropical', 'temperate', 'humid', 'tundra', 'polar']\n"
     ]
    }
   ],
   "source": [
    "'''\n",
    "append() - adds an element to the end of the list.\n",
    "'''\n",
    "f = ['tropical','temperate','humid','tundra']\n",
    "f.append('polar')\n",
    "print(f)"
   ]
  },
  {
   "cell_type": "code",
   "execution_count": 8,
   "id": "aa9f8324",
   "metadata": {},
   "outputs": [
    {
     "name": "stdout",
     "output_type": "stream",
     "text": [
      "['good', 'perfect', 'ideal', 'superb', 'excellent', 'impeccable']\n"
     ]
    }
   ],
   "source": [
    "'''\n",
    "extend() - adds specified list of elements to the end of the list.\n",
    "'''\n",
    "g = ['good','perfect','ideal']\n",
    "g.extend(['superb','excellent','impeccable'])\n",
    "print(g)"
   ]
  },
  {
   "cell_type": "code",
   "execution_count": 9,
   "id": "93795809",
   "metadata": {},
   "outputs": [
    {
     "name": "stdout",
     "output_type": "stream",
     "text": [
      "['a', 'b', 'c', 'd', 'e', 'f', 'g', 'h', 'i']\n"
     ]
    }
   ],
   "source": [
    "'''\n",
    "insert() - to insert an element at specified position in a list.\n",
    "Syntax: insert(position,value)\n",
    "'''\n",
    "h = ['a','b','c','e','f','g','h','i']\n",
    "h.insert(3,'d')\n",
    "print(h)"
   ]
  },
  {
   "cell_type": "code",
   "execution_count": 10,
   "id": "5c2b92e4",
   "metadata": {},
   "outputs": [
    {
     "name": "stdout",
     "output_type": "stream",
     "text": [
      "5\n"
     ]
    }
   ],
   "source": [
    "'''\n",
    "count() - gives number of times specified element appears in the list.\n",
    "'''\n",
    "i = [1,9,9,9,2,0,0,0,2,0,0,1]\n",
    "print(i.count(0))"
   ]
  },
  {
   "cell_type": "code",
   "execution_count": 11,
   "id": "917c9f14",
   "metadata": {},
   "outputs": [
    {
     "name": "stdout",
     "output_type": "stream",
     "text": [
      "[1, 2, 3, 4, 5, 6, 7, 8, 9]\n"
     ]
    }
   ],
   "source": [
    "'''\n",
    "pop() -  removes element at specified index from the list.\n",
    "'''\n",
    "j = [1,1,2,3,4,5,6,7,8,9]\n",
    "j.pop(1)\n",
    "print(j)"
   ]
  },
  {
   "cell_type": "code",
   "execution_count": 12,
   "id": "a2ce61ac",
   "metadata": {},
   "outputs": [
    {
     "name": "stdout",
     "output_type": "stream",
     "text": [
      "['a', 'b', 'c', 'd', 'e', 'f', 'g']\n"
     ]
    }
   ],
   "source": [
    "'''\n",
    "reverse() - reverse the elements of the list.\n",
    "'''\n",
    "k = ['g','f','e','d','c','b','a']\n",
    "k.reverse()\n",
    "print(k)"
   ]
  },
  {
   "cell_type": "code",
   "execution_count": 13,
   "id": "f2639fdb",
   "metadata": {},
   "outputs": [
    {
     "name": "stdout",
     "output_type": "stream",
     "text": [
      "[1, 2, 3, 4, 5, 6, 7, 8, 9]\n"
     ]
    }
   ],
   "source": [
    "'''\n",
    "sort() - arranges list in ascending order\n",
    "'''\n",
    "l = [6,9,5,2,4,1,7,3,8]\n",
    "l.sort()\n",
    "print(l)"
   ]
  },
  {
   "cell_type": "code",
   "execution_count": 14,
   "id": "fb0723a5",
   "metadata": {},
   "outputs": [
    {
     "name": "stdout",
     "output_type": "stream",
     "text": [
      "[1, 3, 5, 7, 9]\n",
      "[]\n"
     ]
    }
   ],
   "source": [
    "'''\n",
    "clear() - removes all the elements from the list.\n",
    "'''\n",
    "m = [1,3,5,7,9]\n",
    "print(m)\n",
    "m.clear()\n",
    "print(m)"
   ]
  },
  {
   "cell_type": "code",
   "execution_count": 15,
   "id": "6bedbbae",
   "metadata": {},
   "outputs": [
    {
     "name": "stdout",
     "output_type": "stream",
     "text": [
      "[1, 2, 3, 4, 5, 6, 7, 8, 9]\n"
     ]
    }
   ],
   "source": [
    "'''\n",
    "copy() - returns shallow copy of the list.\n",
    "'''\n",
    "n = l.copy()\n",
    "print(n)"
   ]
  },
  {
   "cell_type": "code",
   "execution_count": 16,
   "id": "3874dfe7",
   "metadata": {},
   "outputs": [
    {
     "name": "stdout",
     "output_type": "stream",
     "text": [
      "[1, 9, 6, 0, 1, 3, 2]\n"
     ]
    }
   ],
   "source": [
    "\n",
    "'''\n",
    "remove() -  removers first matching element in the list.\n",
    "'''\n",
    "o = [0,1,9,6,0,1,3,2]\n",
    "o.remove(0)\n",
    "print(o)\n",
    "\n"
   ]
  }
 ],
 "metadata": {
  "kernelspec": {
   "display_name": "Python 3 (ipykernel)",
   "language": "python",
   "name": "python3"
  },
  "language_info": {
   "codemirror_mode": {
    "name": "ipython",
    "version": 3
   },
   "file_extension": ".py",
   "mimetype": "text/x-python",
   "name": "python",
   "nbconvert_exporter": "python",
   "pygments_lexer": "ipython3",
   "version": "3.9.12"
  }
 },
 "nbformat": 4,
 "nbformat_minor": 5
}
