{
 "cells": [
  {
   "cell_type": "markdown",
   "id": "a636f742",
   "metadata": {},
   "source": [
    "# HackerRank Practice\n",
    "_________________________________________________________________"
   ]
  },
  {
   "cell_type": "markdown",
   "id": "6bc58bf9",
   "metadata": {},
   "source": [
    "# HackerRank : PRINT\n",
    "# Greeting Quote\n",
    "\n",
    "```python\n",
    "Mr Greet is the name of the digital notice board placed at the entrance of the seminar hall. Its purpose is to welcome each and every participant of the seminar by showing a welcoming quote with their name on it.\n",
    "\n",
    "It is based on the function ‘Greet’ which takes a single parameter ‘Name’ as a String are the names of the participants as Input One by one.\n",
    "\n",
    "Write the function definition for ‘Greet’ which will generate the welcoming quote as below :\n",
    "\n",
    "For Example, the ‘Name’ is “Kundrapu” then the welcoming quote will be :\n",
    "\n",
    " Output:\n",
    " Welcome, Kundrapu.\n",
    " It is our pleasure to invite you.\n",
    " Have a wonderful day.\n",
    "\n",
    " Note:\n",
    " ‘Name’ must be of String Datatype.\n",
    "\n",
    " Input Format for Custom Testing:\n",
    " It’s a single line containing a name.\n",
    "\n",
    " Sample Test Case 1:\n",
    " Sample Input\n",
    "\n",
    " STDIN      Function\n",
    " -----      --------\n",
    " Lavanya→  Name\n",
    " Sample Output\n",
    "\n",
    " Welcome Lavanya.\n",
    " It is our pleasure inviting you.\n",
    " Have a wonderful day.\n",
    "```"
   ]
  },
  {
   "cell_type": "code",
   "execution_count": 1,
   "id": "0f1d1bb3",
   "metadata": {},
   "outputs": [
    {
     "name": "stdout",
     "output_type": "stream",
     "text": [
      "Lavanya\n",
      "Welcome Lavanya.\n",
      "It is our pleasure inviting you.\n",
      "Have a wonderful day.\n"
     ]
    }
   ],
   "source": [
    "import math\n",
    "import os\n",
    "import random\n",
    "import re\n",
    "import sys\n",
    "\n",
    "def Greet(Name):\n",
    "    print(\"Welcome \" + Name + \".\")\n",
    "    print(\"It is our pleasure inviting you.\")\n",
    "    print(\"Have a wonderful day.\")\n",
    "\n",
    "if __name__ == '__main__':\n",
    "    Name = input()\n",
    "    Greet(Name)\n",
    "    "
   ]
  },
  {
   "cell_type": "markdown",
   "id": "89369083",
   "metadata": {},
   "source": [
    "______________________________________________________________"
   ]
  },
  {
   "cell_type": "markdown",
   "id": "a3d1d2d4",
   "metadata": {},
   "source": [
    "______________________________________________"
   ]
  },
  {
   "cell_type": "markdown",
   "id": "7192ae47",
   "metadata": {},
   "source": [
    "# HackerRank : NAMESPACES\n",
    "\n",
    "```python\n",
    "Write the function definition for the function 'Assign' to assign the different types of variables in its parameters to new variables. \n",
    " \n",
    "Parameters: \n",
    "1.An INTEGER in the variable 'i' \n",
    "2. A FLOAT in the variable 'f'' \n",
    "3.A STRING in the variable 's' \n",
    "4.A BOOLEAN in the variable 'b' \n",
    " \n",
    " \n",
    "New variables to be assigned with: \n",
    "1.An INTEGER in the variable 'w' \n",
    "2.A FLOAT in the variable 'x' \n",
    "3.A STRING in the variable 'y' \n",
    "4.A BOOLEAN in the variable 'z' \n",
    "  \n",
    " Assign the parameter variables Respectively and Print these in the following order: \n",
    " 1.w  \n",
    " 2.x  \n",
    " 3.y  \n",
    " 4.z  \n",
    " 5.Display all the objects defined in the current namespace by using the 'dir' function  \n",
    " \n",
    "\n",
    " Sample Output \n",
    " 10 \n",
    " 3.14 \n",
    " One \n",
    " True \n",
    " ['b', 'f', 'i', 's', 'w', 'x', 'y', 'z']\n",
    "```"
   ]
  },
  {
   "cell_type": "code",
   "execution_count": 2,
   "id": "e0f3625b",
   "metadata": {},
   "outputs": [
    {
     "name": "stdout",
     "output_type": "stream",
     "text": [
      "10\n",
      "3.14\n",
      "One\n",
      "True\n",
      "10\n",
      "3.14\n",
      "One\n",
      "True\n",
      "['b', 'f', 'i', 's', 'w', 'x', 'y', 'z']\n"
     ]
    }
   ],
   "source": [
    "import math\n",
    "import os\n",
    "import random\n",
    "import re\n",
    "import sys\n",
    "\n",
    "\n",
    "def Assign(i, f, s, b):\n",
    "    w = i \n",
    "    x = f\n",
    "    y = s\n",
    "    z = b \n",
    "    print(w)\n",
    "    print(x)\n",
    "    print(y)\n",
    "    print(z)\n",
    "    print(dir())\n",
    "    \n",
    "if __name__ == '__main__':\n",
    "\n",
    "    i = int(input().strip())\n",
    "    f = float(input().strip())\n",
    "    s = input()\n",
    "    b = input().strip()\n",
    "    Assign(i, f, s, b)"
   ]
  },
  {
   "cell_type": "markdown",
   "id": "324616d6",
   "metadata": {},
   "source": [
    "___________________________________________"
   ]
  },
  {
   "cell_type": "markdown",
   "id": "ceab32a5",
   "metadata": {},
   "source": [
    "----"
   ]
  },
  {
   "cell_type": "markdown",
   "id": "b7a7e5b0",
   "metadata": {},
   "source": [
    "# HackerRank : Usage Imports\n",
    "```python\n",
    "Define a function called calc which takes one parameter. The parameter 'c' is an integer which is the circumference of the circle. The function definition code stub is given in the editor. Find the radius and Area of the circle using math module based on condition given below: \n",
    " \n",
    "  Formula for \n",
    "  Radius:  c/2*π \n",
    "  Area:  πr^2 \n",
    "  Return both Radius and Area.  \n",
    "  The values must be rounded off to 2 positions. \n",
    "    \n",
    " Constraints  \n",
    " input must be an integer. \n",
    " Input Format Format for Custom Testing \n",
    " In the first line c given. \n",
    "\n",
    "  Sample Case 0 \n",
    "  Sample Input  \n",
    "  STDIN      Function \n",
    "  -----      -------- \n",
    "  8       →  c = 8 \n",
    "\n",
    "  Sample Output  \n",
    "  (1.27, 5.09)   \n",
    "  \n",
    "  Explanation \n",
    "  With 8 as input, Radius and Area are calculated and returned.\n",
    "```"
   ]
  },
  {
   "cell_type": "code",
   "execution_count": 3,
   "id": "7e968a31",
   "metadata": {},
   "outputs": [
    {
     "name": "stdout",
     "output_type": "stream",
     "text": [
      "8\n",
      "(1.27, 0.64)\n"
     ]
    }
   ],
   "source": [
    "import math\n",
    "\n",
    "import os\n",
    "\n",
    "import random\n",
    "\n",
    "import re\n",
    "\n",
    "import sys\n",
    "\n",
    "def calc(c): \n",
    "\n",
    "   return round((c/(2*math.pi)),2), round( (c/(2*math.pi)**2*math.pi),2)\n",
    "if __name__ == '__main__':   \n",
    "\n",
    "    c = int(input().strip())\n",
    "    print(calc(c))"
   ]
  },
  {
   "cell_type": "markdown",
   "id": "e8aad516",
   "metadata": {},
   "source": [
    "--------------------------------------"
   ]
  },
  {
   "cell_type": "markdown",
   "id": "8dc887d1",
   "metadata": {},
   "source": [
    "--------------"
   ]
  },
  {
   "cell_type": "markdown",
   "id": "22e8d504",
   "metadata": {},
   "source": [
    "\n",
    "# HackerRank: Get Additional Info\n",
    "\n",
    "```python\n",
    "\n",
    "Python - Get Additional Info\n",
    "Define a function called docstring which takes one parameter. The parameter 'function-name' is a Python built-in function name. The function definition code stub is given in the editor. Generate a Docstring of the input function based on the condition given below:\n",
    "\n",
    "The Docstring must give the maximum information about the function.\n",
    "  \n",
    "  Constraints\n",
    "  Input must be a string.\n",
    "  Input Format Format for Custom Testing\n",
    "  In the input, any python built-in function is given as a string.\n",
    " \n",
    "\n",
    "  Sample Case 0\n",
    "  Sample Input\n",
    "\n",
    "  STDIN      Function\n",
    "  -----      --------\n",
    "  print   →  functionname = print\n",
    "\n",
    "  Sample Output:\n",
    "\n",
    "  Help on built-in function print in module builtins:\n",
    "\n",
    "  print(...)\n",
    "      print(value, ..., sep=' ', end='\\n', file=sys.stdout, flush=False)\n",
    "    \n",
    "      Prints the values to a stream, or to sys.stdout by default.\n",
    "      Optional keyword arguments:\n",
    "      file:  a file-like object (stream); defaults to the current sys.stdout.\n",
    "      sep:   string inserted between values, default a space.\n",
    "      end:   string appended after the last value, default a newline.\n",
    "      flush: whether to forcibly flush the stream.\n",
    "  \n",
    "  Explanation\n",
    "  The function name print is passed as a parameter which generates the output.\n",
    "  \n",
    " ```"
   ]
  },
  {
   "cell_type": "code",
   "execution_count": 4,
   "id": "ca9fa94e",
   "metadata": {},
   "outputs": [
    {
     "name": "stdout",
     "output_type": "stream",
     "text": [
      "print\n",
      "Help on built-in function print in module builtins:\n",
      "\n",
      "print(...)\n",
      "    print(value, ..., sep=' ', end='\\n', file=sys.stdout, flush=False)\n",
      "    \n",
      "    Prints the values to a stream, or to sys.stdout by default.\n",
      "    Optional keyword arguments:\n",
      "    file:  a file-like object (stream); defaults to the current sys.stdout.\n",
      "    sep:   string inserted between values, default a space.\n",
      "    end:   string appended after the last value, default a newline.\n",
      "    flush: whether to forcibly flush the stream.\n",
      "\n"
     ]
    }
   ],
   "source": [
    "import math\n",
    "import os\n",
    "import random\n",
    "import re\n",
    "import sys\n",
    "\n",
    "def docstring(functionname):                        \n",
    "   help(functionname)    \n",
    "\n",
    "if __name__ == '__main__':\n",
    "    x = input()    \n",
    "    docstring(x)"
   ]
  },
  {
   "cell_type": "markdown",
   "id": "de36fb5d",
   "metadata": {},
   "source": [
    "---------------------------------------------------------------------"
   ]
  },
  {
   "cell_type": "markdown",
   "id": "ab2c9c02",
   "metadata": {},
   "source": [
    "------"
   ]
  },
  {
   "cell_type": "markdown",
   "id": "67776711",
   "metadata": {},
   "source": [
    "# HackerRank: Input from the User\n",
    "```python\n",
    "Write the function definition for the function 'Prompt' to get a 'STRING' input from the user.\n",
    "Write a script to prompt the question \"Enter an STRING:\".\n",
    "Pass the user input in a variable, Say 'x'.\n",
    "Print the value of 'x' and its type in separate lines.\n",
    "\n",
    "  Input Format for Custom Testing:\n",
    "  It’s a single line that contains string input from the user.\n",
    "\n",
    "  Sample Test Case 1:\n",
    "  Sample Input\n",
    "\n",
    "  STDIN    \n",
    "  -----\n",
    "  One\n",
    "  Sample Output\n",
    "  Enter a STRING:\n",
    "  One\n",
    "  <class 'str'>\n",
    "```"
   ]
  },
  {
   "cell_type": "code",
   "execution_count": 5,
   "id": "f491894c",
   "metadata": {},
   "outputs": [
    {
     "name": "stdout",
     "output_type": "stream",
     "text": [
      "Enter a STRING:\n",
      "One\n",
      "One\n",
      "<class 'str'>\n"
     ]
    }
   ],
   "source": [
    "import math\n",
    "import os\n",
    "import random\n",
    "import re\n",
    "import sys\n",
    "\n",
    "def Prompt():\n",
    "\n",
    "    x =input('Enter a STRING:\\n') \n",
    "    print((x))\n",
    "    print(type(x))\n",
    "\n",
    "if __name__ == '__main__':\n",
    "    Prompt()"
   ]
  },
  {
   "cell_type": "markdown",
   "id": "95a258d6",
   "metadata": {},
   "source": [
    "_________________________________________________________"
   ]
  },
  {
   "cell_type": "markdown",
   "id": "fb2aff16",
   "metadata": {},
   "source": [
    "-----"
   ]
  },
  {
   "cell_type": "markdown",
   "id": "2102877a",
   "metadata": {},
   "source": [
    "# HackerRank: Range 1\n",
    "```python\n",
    "Define a function called rangefunction which takes three parameters. The first parameter is startvalue , the next parameter is endvalue and the last parameter is 'stepvalue'. The function definition code stub is given in the editor. Generate the squares of numbers from startvalue to endvalue using range based on condition given below:\n",
    "\n",
    "Print the values which must be separated by tab spaces.\n",
    "Note: startvalue and endvalue both are inclusive in the range. \n",
    "\n",
    " Constraints\n",
    " 1 ≤ startvalue\n",
    " Input Format for Custom Testing\n",
    " In the first line startvalue given\n",
    " In the second line endvalue given\n",
    " In the second line stepvalue given\n",
    "\n",
    "\n",
    " Sample Case 0\n",
    " Sample Input\n",
    "\n",
    " STDIN      Function\n",
    " -----      --------\n",
    " 2       →  startvalue = 2\n",
    " 9       →  endvalue = 9\n",
    " 2       →  stepvalue = 2\n",
    "\n",
    " Sample Output\n",
    " 4    16    36    64   \n",
    "\n",
    " Explanation\n",
    " With 2 as startvalue to 9 as endvalue and with 2 as stepvalue the output is  2    4    6    8 whose squares are 4    16    36    64\n",
    " ```"
   ]
  },
  {
   "cell_type": "code",
   "execution_count": 6,
   "id": "7430338f",
   "metadata": {},
   "outputs": [
    {
     "name": "stdout",
     "output_type": "stream",
     "text": [
      "2\n",
      "9\n",
      "2\n",
      "4\t16\t36\t64\t"
     ]
    }
   ],
   "source": [
    "import math\n",
    "import os\n",
    "import random\n",
    "import re\n",
    "import sys\n",
    "def rangefunction(startvalue, endvalue, stepvalue):\n",
    "    \n",
    "    for i in range(startvalue, endvalue, stepvalue): \n",
    "        print(i*i,end = \"\\t\")\n",
    "        \n",
    "if __name__ == '__main__':\n",
    "    x = int(input().strip())\n",
    "    y = int(input().strip())\n",
    "    z = int(input().strip())\n",
    "    rangefunction(x, y, z)"
   ]
  }
 ],
 "metadata": {
  "kernelspec": {
   "display_name": "Python 3 (ipykernel)",
   "language": "python",
   "name": "python3"
  },
  "language_info": {
   "codemirror_mode": {
    "name": "ipython",
    "version": 3
   },
   "file_extension": ".py",
   "mimetype": "text/x-python",
   "name": "python",
   "nbconvert_exporter": "python",
   "pygments_lexer": "ipython3",
   "version": "3.9.12"
  }
 },
 "nbformat": 4,
 "nbformat_minor": 5
}
